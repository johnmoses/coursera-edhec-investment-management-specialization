{
 "cells": [
  {
   "cell_type": "markdown",
   "metadata": {},
   "source": [
    "# Module 3 Graded Quiz"
   ]
  },
  {
   "cell_type": "markdown",
   "metadata": {},
   "source": [
    "Question 1\n",
    "Consider the Monte Carlo Simulation we ran for CPPI. Assume there is no floor set (i.e. Floor is set to\n",
    " Zero) As you increase the number of scenarios, which of the following would you expect:\n",
    "\n",
    "The difference in terminal wealth between the Worst Scenario and the Best Scenario will STAY THE\n",
    " SAME\n",
    "\n",
    "The difference in terminal wealth between the Worst Scenario and the Best Scenario will DEPEND ON\n",
    " THE RISK FREE RATE\n",
    "\n",
    "The difference in terminal wealth between the Worst Scenario and the Best Scenario will DECREASE\n",
    "\n",
    "[x] The difference in terminal wealth between the Worst Scenario and the Best Scenario will INCREASE\n",
    "1 point"
   ]
  },
  {
   "cell_type": "markdown",
   "metadata": {},
   "source": [
    "Question 2\n",
    "As you increase the FLOOR, the WORST CASE scenario will:\n",
    "\n",
    "[x] INCREASE\n",
    "\n",
    "DECREASE\n",
    "\n",
    "REMAIN UNCHANGED\n",
    "1 point"
   ]
  },
  {
   "cell_type": "markdown",
   "metadata": {},
   "source": [
    "Question 3\n",
    "Assume a non-zero floor that is less than the starting wealth. As you increase mu and keep other\n",
    " parameters fixed, you would expect that the terminal wealth:\n",
    "\n",
    "DECREASES\n",
    "\n",
    "INCREASES OR DECREASES - IT DEPENDS ON multiplier ‘m’\n",
    "\n",
    "[x] INCREASES\n",
    "\n",
    "INCREASES OR DECREASES - IT DEPENDS ON SIGMA\n",
    "1 point"
   ]
  },
  {
   "cell_type": "markdown",
   "metadata": {},
   "source": [
    "Question 4\n",
    "All other things being equal, which of these changes will cause an INCREASE in floor violations\n",
    "\n",
    "Increasing “m” but decreasing “sigma”\n",
    "\n",
    "Decreasing “m” but increasing “sigma”\n",
    "\n",
    "[x] Increasing both “m” and “sigma”\n",
    "1 point"
   ]
  },
  {
   "cell_type": "markdown",
   "metadata": {},
   "source": [
    "Question 5\n",
    "All other things being equal, which of these changes will cause an INCREASE in floor violations\n",
    "\n",
    "Increasing both “m” and “rebals per year”\n",
    "\n",
    "Decreasing “m” but increasing “rebals per year”\n",
    "\n",
    "[x] Increasing “m” but decreasing “rebals per year”\n",
    "1 point"
   ]
  },
  {
   "cell_type": "markdown",
   "metadata": {},
   "source": [
    "Question 6\n",
    "All other things being equal, which of these changes will cause in INCREASE in Expected Shortfall\n",
    "\n",
    "[x] Increasing “m” but decreasing “rebals per year”\n",
    "\n",
    "Decreasing “m” but increasing “rebals per year”\n",
    "\n",
    "Increasing both “m” and “rebals per year”\n",
    "1 point"
   ]
  },
  {
   "cell_type": "markdown",
   "metadata": {},
   "source": [
    "Question 7\n",
    "Parameter changes that increase the probability of floor violations will also tend to increase the Expected\n",
    " Shortfall. This statement is:\n",
    "\n",
    "True only if mu is smaller than sigma\n",
    "\n",
    "[x] True\n",
    "\n",
    "True only if mu is greater than sigma\n",
    "\n",
    "False\n",
    "\n",
    "True if the Risk Free Rate is expected to increase\n",
    "1 point"
   ]
  },
  {
   "cell_type": "markdown",
   "metadata": {},
   "source": [
    "Question 8\n",
    "A CPPI Based Principal Protection Strategy aims to return at least the invested principal by setting the floor\n",
    " equal to the initial value of the assets. Which of the following is true:\n",
    "\n",
    "[x] It is only possible to run a CPPI based Principal Protection Strategy if the risk free rate is greater than or\n",
    " equal to 0\n",
    "\n",
    "It is only possible to run a CPPI based Principal Protection Strategy strategy if mu is greater than or equal\n",
    " to 0\n",
    "\n",
    "It is only possible to run a CPPI based Principal Protection Strategy if sigma is equal to zero\n",
    "\n",
    "It is only possible to run a CPPI based Principal Protection Strategy if mu is greater than the risk free rate\n",
    "1 point"
   ]
  },
  {
   "cell_type": "markdown",
   "metadata": {},
   "source": [
    "Question 9\n",
    "A CPPI based Principal Protection Strategy with 12 rebals per year can have a zero expected shortfall only\n",
    " if:\n",
    "\n",
    "sigma is strictly lower than mu\n",
    "\n",
    "[x] m=1\n",
    "\n",
    "mu=1%\n",
    "\n",
    "m is strictly greater than 1\n",
    "1 point"
   ]
  },
  {
   "cell_type": "markdown",
   "metadata": {},
   "source": [
    "Question 10\n",
    "All other things being equal, A CPPI based Principal Protection Strategy is more likely to have a final\n",
    " negative return if:\n",
    "\n",
    "[x] sigma increases\n",
    "\n",
    "mu increases\n",
    "\n",
    "rebals per year increases\n",
    "\n",
    "the investment horizon increases\n",
    "1 point\n"
   ]
  }
 ],
 "metadata": {
  "kernelspec": {
   "display_name": "mforge39",
   "language": "python",
   "name": "python3"
  },
  "language_info": {
   "name": "python",
   "version": "3.9.19"
  }
 },
 "nbformat": 4,
 "nbformat_minor": 2
}
