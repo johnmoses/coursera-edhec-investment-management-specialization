{
 "cells": [
  {
   "cell_type": "markdown",
   "metadata": {},
   "source": [
    "# Module 4 Graded Quiz"
   ]
  },
  {
   "cell_type": "markdown",
   "metadata": {},
   "source": [
    "Question 1\n",
    "What motivates the search for economic regimes?\n",
    "\n",
    "Identify periods of political instability caused by fraudulent elections\n",
    "\n",
    "[x] Improve the modeling of asset returns, for example, to address fat tailed losses in asset returns which are poorly depicted by a normal probability distribution\n",
    "\n",
    "Link asset returns to the weather during winter months\n",
    "1 point"
   ]
  },
  {
   "cell_type": "markdown",
   "metadata": {},
   "source": [
    "2 What are the critical inputs of a regime-switching financial risk management system? Mutiple responses possible (3 correct answers)\n",
    "\n",
    "[x] A transition matrix for the probabilities of movement from time t to time t+1\n",
    "\n",
    "[x] The state of current regime\n",
    "\n",
    "[] Knowing the exact sequence of regimes for the future\n",
    "\n",
    "[x] A mechanism for addressing multiple and conflicting objectives\n",
    "1 point"
   ]
  },
  {
   "cell_type": "markdown",
   "metadata": {},
   "source": [
    "3 Question 3\n",
    "What are the assumptions for converting a multi-period investment model into a sequence of single period models? \n",
    "\n",
    "[x] Independent and identically distributed returns at each period, including temporal independence\n",
    "\n",
    "Lack of expertise to construct a multi-period model\n",
    "1 point"
   ]
  },
  {
   "cell_type": "markdown",
   "metadata": {},
   "source": [
    "Question 4\n",
    "What are common characteristics of market crash periods? (2 correct answers)\n",
    "\n",
    "[x] High volatility and high correlations in returns across a wide variety of assets\n",
    "\n",
    "[] Low level of bankruptciesl\n",
    "\n",
    "[x] Substantial drawdowns\n",
    "\n",
    "[] Low volatility and high returns\n",
    "1 point"
   ]
  },
  {
   "cell_type": "markdown",
   "metadata": {},
   "source": [
    "Question 5\n",
    "An advantage of the multi-regime model is the greater realism of the forecasting system as compared with a single regime model:  Yes or no ?\n",
    "\n",
    "[x] Yes\n",
    "\n",
    "[] No\n",
    "1 point"
   ]
  },
  {
   "cell_type": "markdown",
   "metadata": {},
   "source": [
    "6 The scenario based portfolio model is identical to the traditional mean/variance (Markowitz) model under which of the following assumptions?Multiple responses possible\n",
    "\n",
    "[] The scenarios are based on equal periods of historical performance.    \n",
    "\n",
    "[x] The number of scenarios is large enough to reduce the sampling errors to a management number.\n",
    "\n",
    "[x] The scenarios are derived from a multi-normal distribution (single regime)\n",
    "1 point"
   ]
  },
  {
   "cell_type": "markdown",
   "metadata": {},
   "source": [
    "Question 7\n",
    "What are the advantages of a multi period regime model over the traditional Markowitz model?Multiple responses possible \n",
    "\n",
    "[x] More accurate future projections compared with historical performance patterns\n",
    "\n",
    "[x] Ability to include inflows/savings and outflows/expenses within the model directly\n",
    "\n",
    "[x] Ability to address transaction costs\n",
    "\n",
    "[x] Ability to model temporal risk measures, such as probability of meeting a goal at a designated future date\n",
    "1 point"
   ]
  },
  {
   "cell_type": "markdown",
   "metadata": {},
   "source": [
    "Question 8\n",
    "In the Module 4 Jupyter notebook, please kindly run the Q-Q plot function for each asset. Which asset has a similar tail to the normal\n",
    " distribution?\n",
    "\n",
    "[x] US Treasuries\n",
    "\n",
    "[] T-bill\n",
    "\n",
    "High Yield\n",
    "\n",
    "US Equities\n",
    "1 point"
   ]
  },
  {
   "cell_type": "markdown",
   "metadata": {},
   "source": [
    "Question 9\n",
    "If we increase the λ in trend filtering algorithm, how will the corresponding regime plot changes? (2 correct answers)\n",
    "\n",
    "[x] Fewer crash regimes \n",
    "\n",
    "[] More crash regimes\n",
    "\n",
    "[] Less persistent crash regimes\n",
    "\n",
    "[x] More persistent crash regimes\n",
    "1 point"
   ]
  },
  {
   "cell_type": "markdown",
   "metadata": {},
   "source": [
    "Question 10\n",
    "The efficient frontier of two regime model generally indicates ____ than that of single period model. (2 correct answers)\n",
    "\n",
    "[] Higher return at the same risk\n",
    "\n",
    "[] Lower risk at the same return\n",
    "\n",
    "[x] Lower return at the same risk\n",
    "\n",
    "[x] Higher risk at the same return\n",
    "1 point"
   ]
  }
 ],
 "metadata": {
  "kernelspec": {
   "display_name": "mforge39",
   "language": "python",
   "name": "python3"
  },
  "language_info": {
   "name": "python",
   "version": "3.9.19"
  }
 },
 "nbformat": 4,
 "nbformat_minor": 2
}
