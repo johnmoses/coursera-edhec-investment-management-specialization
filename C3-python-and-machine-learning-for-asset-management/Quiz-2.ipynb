{
 "cells": [
  {
   "cell_type": "markdown",
   "metadata": {},
   "source": [
    "# Module 2 Graded Quiz"
   ]
  },
  {
   "cell_type": "markdown",
   "metadata": {},
   "source": [
    "Question 1\n",
    "What is the motivation for employing risk-factors when constructing a financial risk management system? Multiple responses possible (3 correct answers)\n",
    "\n",
    "[x] Factor investing can Improve diversification\n",
    "\n",
    "[x] Factor investing can assist with setting forward-looking parameters such as the expected performance of hybrid asset categories\n",
    "\n",
    "[] Factor investing eliminates the need to estimate the expected performance of asset categories and securities in a forward-looking portfolio model.\n",
    "\n",
    "[x] Factor investing is based on the premise that we can uncover and measure risks that are embedded in asset categories with multiple risks, such as high-yield bonds, private equity\n",
    "1 point"
   ]
  },
  {
   "cell_type": "markdown",
   "metadata": {},
   "source": [
    "Question 2\n",
    "What are the standard assumptions for applying the traditional OLS regression framework?Multiple responses possible  \n",
    "\n",
    "[x] Relatively independent explanatory variables/factors\n",
    "\n",
    "[x] Economic and causal relationship between the explanatory and the dependent variable\n",
    "\n",
    "[] Factors display regression towards the mean over time\n",
    "\n",
    "[x] Additive and linear impacts for each explanatory variable/factor \n",
    "1 point"
   ]
  },
  {
   "cell_type": "markdown",
   "metadata": {},
   "source": [
    "Question 3\n",
    "What might explain the difference in the factor loadings during crash economic periods as compared with normal economic conditions?Multiple responses possible \n",
    "\n",
    "[x] High volatility has a ripple impact on many market- based risks\n",
    "\n",
    "[] Market contractions are relatively rare and can be largely ignored by most investors since they quickly return to normal conditions\n",
    "\n",
    "[x] Crash periods display high contagion\n",
    "\n",
    "[x] The flight-to-quality syndrome causes the correlation between equities and government bonds to become negative\n",
    "1 point"
   ]
  },
  {
   "cell_type": "markdown",
   "metadata": {},
   "source": [
    "Question 4\n",
    "How to address factors that have high correlation with other factors?Multiple responses possible\n",
    "\n",
    "[x] Eliminate one or more of the mostly highly correlated factors\n",
    "\n",
    "[] Ignore this issue\n",
    "\n",
    "[x] Employ ridge regression to choose the most significant factors\n",
    "\n",
    "[x] Combine correlated factor into an aggregate meta-factor\n",
    "1 point"
   ]
  },
  {
   "cell_type": "markdown",
   "metadata": {},
   "source": [
    "Question 5\n",
    "How can you identify if you are missing a prominent factor?\n",
    "\n",
    "[x] The out-of-sample errors from the regularized regression are very high\n",
    "\n",
    "[] The expected return estimates from the factor loadings fail to predict well the actual ex post returns over a short time period\n",
    "\n",
    "[] One of the popular factor models has not been working well over the past several months. \n",
    "1 point"
   ]
  },
  {
   "cell_type": "markdown",
   "metadata": {},
   "source": [
    "Question 6\n",
    "What are the disadvantages of factor approaches? (3 correct answers)\n",
    "\n",
    "[] Factor models are more complicated than traditional asset allocation methods\n",
    "\n",
    "[] Factor models require a two-step process when constructing an optimal portfolio. This process requires greater training and expertise than traditional portfolio models. \n",
    "\n",
    "[] The approach can be subjected to lower returns going forward to its popularity and overuse\n",
    "\n",
    "[] There is no universal acceptance for any particular set of factors and whether a portfolio of assets should be analyzed security by security or as a single time series\n",
    "1 point"
   ]
  },
  {
   "cell_type": "markdown",
   "metadata": {},
   "source": [
    "Question 7\n",
    "What are three of the major factors for  high yield bonds?Multiple responses possible\n",
    "\n",
    "[] Political party in power\n",
    "\n",
    "[x] Yield spreads\n",
    "\n",
    "[x] Interest rates\n",
    "\n",
    "[x] Global equities\n",
    "1 point"
   ]
  },
  {
   "cell_type": "markdown",
   "metadata": {},
   "source": [
    "8.\n",
    "Question 8\n",
    "Use the OLS Model under section 6, OLS of the notebook to answer this question. Suppose we increase the expected return of 10 Year US Treasuries by 1 percentage point.  What would be the\n",
    "change in expected commodity returns given the model?\n",
    "\n",
    "[] No change\n",
    "\n",
    "[x] Increase expected commodity returns by .128%\n",
    "\n",
    "[] Increase expected commodity returns by 1.28%\n",
    "\n",
    "[] Increase expected inflation by 1.8%\n",
    "1 point\n"
   ]
  },
  {
   "cell_type": "markdown",
   "metadata": {},
   "source": [
    "Question 9\n",
    "Use the LASSO model under section 3, LASSO in the notebook to answer this question.  This question covers the effect of changing lambda hat on a LASSO regression.  Which of the following lambda hat values results in a LASSO model with all zero factor loadings, and which lambda hat value results in a LASSO model with no zero factor loadings.\n",
    "\n",
    "[x] Lambda hat = .005 gives all zero factor loadings, and lambda hat = .000005 does not give all zero factor loadings.\n",
    "\n",
    "[] Lambda hat = .000005 gives all zero factor loadings, and lambda hat = .005 does not give all zero factor loadings\n",
    "\n",
    "Lambda hat = .005 gives all zero factor loadings, and lambda hat = .000005 gives all non-zero factor loadings\n",
    "\n",
    "Lambda hat = .000005 gives all zero factor loadings, and lambda hat = .005 gives all non-zero factor loadings\n",
    "1 point"
   ]
  },
  {
   "cell_type": "markdown",
   "metadata": {},
   "source": [
    "Question 10\n",
    "True or False: On average the factor loadings for a regularized regression will be less than the factor loading for OLS regression.\n",
    "\n",
    "[x] True\n",
    "\n",
    "False\n",
    "1 point"
   ]
  },
  {
   "cell_type": "markdown",
   "metadata": {},
   "source": [
    "Question 11\n",
    "This question covers the procedure of cross validation.  When we say “cross validation selects the “best” value of lambda hat.”  What do we mean by “best?”\n",
    "\n",
    "[x] This value of lambda results in the smallest mean squared error in the out of sample tests\n",
    "\n",
    "This value of lambda results in the smallest mean squared error in the training data\n",
    "\n",
    "This value of lambda results in the smallest difference between the mean squared error out of sample and mean squared error in sample\n",
    "\n",
    "It is smallest lambda that sets at least one factor loading to zero\n",
    "1 point"
   ]
  }
 ],
 "metadata": {
  "kernelspec": {
   "display_name": "mforge39",
   "language": "python",
   "name": "python3"
  },
  "language_info": {
   "name": "python",
   "version": "3.9.19"
  }
 },
 "nbformat": 4,
 "nbformat_minor": 2
}
