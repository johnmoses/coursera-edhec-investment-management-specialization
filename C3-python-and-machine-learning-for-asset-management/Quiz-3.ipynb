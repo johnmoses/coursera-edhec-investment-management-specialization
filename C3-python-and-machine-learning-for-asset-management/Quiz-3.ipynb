{
 "cells": [
  {
   "cell_type": "markdown",
   "metadata": {},
   "source": [
    "# Module 3 Graded Quiz"
   ]
  },
  {
   "cell_type": "markdown",
   "metadata": {},
   "source": [
    "Question 1\n",
    "What are examples of successful applications of unsupervised learning in finance? Multiple responses possible (3 correct answers)\n",
    "\n",
    "[x] Graphical network analysis to identify clients who might be amenable to new and novel services\n",
    "\n",
    "[] Indicate the conditions of a crash period\n",
    "\n",
    "[x] Unusual behavior by credit card holders within a fraud detection system\n",
    "\n",
    "[x] Identifying firms with unusual levels of income for their respective industry and investments\n",
    "1 point"
   ]
  },
  {
   "cell_type": "markdown",
   "metadata": {},
   "source": [
    "Question 2\n",
    "Can PCA be applied to the time series of a portfolio of stock prices?\n",
    "\n",
    "[x] True\n",
    "\n",
    "False\n",
    "1 point"
   ]
  },
  {
   "cell_type": "markdown",
   "metadata": {},
   "source": [
    "3 What is the optimal number of clusters for a particular set of stocks such as the S&P 500? Multiple responses possible\n",
    "\n",
    "[x] The cluster analysis should provide summary statistics on the similarity measure for stocks within a cluster and chose the number of clusters that minimizes similarity\n",
    "\n",
    "[x] The analysts should plot the total similarity measure as a function of the number of clusters and select a point on the elbow of this curve.\n",
    "\n",
    "[] Clustering output requires at least 10 clusters. \n",
    "\n",
    "[x] There is a tradeoff between the number of clusters and the degree of parsimony in a cluster.  \n",
    "1 point"
   ]
  },
  {
   "cell_type": "markdown",
   "metadata": {},
   "source": [
    "Question 4\n",
    "How might you identify a firm that has highly unusual behavior from the output of a cluster analysis? Multiple responses possible\n",
    "\n",
    "[] Stocks in a single industry will always show up in a common cluster\n",
    "\n",
    "[x] Stocks with similar behavior should be identified in a single cluster\n",
    "\n",
    "[x] The stock would appear in its own cluster \n",
    "1 point"
   ]
  },
  {
   "cell_type": "markdown",
   "metadata": {},
   "source": [
    "5 Much of the success in machine learning is due to access to massive data on customer behavior coming out of user tracking. True or false?\n",
    "\n",
    "[x] True\n",
    "\n",
    "False\n",
    "1 point"
   ]
  },
  {
   "cell_type": "markdown",
   "metadata": {},
   "source": [
    "Question 6\n",
    "Can unsupervised learning make decisions about the best stock to invest in? True or false?\n",
    "\n",
    "True\n",
    "\n",
    "[x] False\n",
    "1 point"
   ]
  },
  {
   "cell_type": "markdown",
   "metadata": {},
   "source": [
    "7 What did the empirical tests show regarding the application of PCA/clustering and via graphical analysis to a stock selection application?Multiple responses possible\n",
    "\n",
    "[x] The graphical analysis was slightly improved over the PCA/clustering method\n",
    "\n",
    "[] The empirical tests did not improve performance\n",
    "\n",
    "[x] Both methods outperformed the Markowitz portfolio \n",
    "1 point"
   ]
  },
  {
   "cell_type": "markdown",
   "metadata": {},
   "source": [
    "Question 8\n",
    "Does the graphical analysis fit in the area of supervised learning?  True or false? \n",
    "\n",
    "[] True\n",
    "\n",
    "[x] False\n",
    "1 point"
   ]
  },
  {
   "cell_type": "markdown",
   "metadata": {},
   "source": [
    "Question 9\n",
    "In the discussed empirical tests between the PCA/clustering algorithm and the graphical network analysis, did one of the approaches dramatically outperform the other? True or false?   \n",
    "\n",
    "[] True\n",
    "\n",
    "[x] False\n",
    "1 point"
   ]
  },
  {
   "cell_type": "markdown",
   "metadata": {},
   "source": [
    "Question 10\n",
    "Most clustering methods employ heuristic algorithms, as compared with a formal optimization model. What leads to this situation?Multiple responses possible\n",
    "\n",
    "[x] The optimization model is much harder to solve, especially for an application with a large number of points/customers/variables to cluster\n",
    "\n",
    "[x] The heuristic methods are easy to interpret\n",
    "\n",
    "[x] The distance function and objective function required by the optimization presents an informational barrier\n",
    "1 point"
   ]
  },
  {
   "cell_type": "markdown",
   "metadata": {},
   "source": [
    "Question 11\n",
    "A cluster always has at least two stocks\n",
    "\n",
    "[x] False\n",
    "\n",
    "[] True\n",
    "1 point"
   ]
  },
  {
   "cell_type": "markdown",
   "metadata": {},
   "source": [
    "Question 12\n",
    "Which of the following sentences correctly summarizes the relationship between the graphical network and the number of sectors?\n",
    "\n",
    "[] The number of clusters must not be grater than the number of sectors\n",
    "\n",
    "The number of clusters must be grater than the number of sectors\n",
    "\n",
    "The number of clusters and the number of sectors must be equal\n",
    "\n",
    "[x] None of above\n",
    "1 point"
   ]
  },
  {
   "cell_type": "markdown",
   "metadata": {},
   "source": [
    "Question 13\n",
    "When graphical analysis is performed, the results are different for different lengths of time (6M, 1Y, 5Y). What are the differences and what could cause these differences?\n",
    "\n",
    "[x] The longer the length of time, the more separated the clusters: using more information the trend of how stocks behave is clearer and then companies that are not in the same cluster show more discrepancies in their trends.\n",
    " \n",
    "\n",
    "The longer the length of time, the more separated the stocks: using more information the trend of how stocks behave is less clear and then companies show more independent trends.\n",
    " \n",
    "\n",
    "The shorter the length of time, the more separated the clusters, using less information the trend of how stocks behave is clearer and then companies that are not in the same sector show more discrepancies in their trends.\n",
    " \n",
    "\n",
    "The shorter the length of time, the more separated the clusters, using less information the trend of how stocks behave is clearer and then companies show more independent trends.\n",
    "1 point"
   ]
  },
  {
   "cell_type": "markdown",
   "metadata": {},
   "source": [
    "Question 14\n",
    "In this notebook, when we calculate for the summary statistics, we notice that the stock “BABA” was dropped because it has missing data for our specified period of time. Please revise the notebook to display the summary statistics\n",
    "information for “BABA” over the full period of time for which its data are available. What are the “Annu. Ave Return” and the “Annualized Sharpe” for\n",
    "“BABA”? (Hint: the command “first_valid_index()” can be useful here.)\n",
    "\n",
    "[x] 21.77%; 0.63\n",
    "\n",
    "19.47%; 0.72\n",
    "\n",
    "11.26%; 0.66\n",
    "\n",
    "8.84%; 0.45\n",
    "1 point"
   ]
  },
  {
   "cell_type": "markdown",
   "metadata": {},
   "source": [
    "Question 15\n",
    "Using the notebook, perform graphical analysis with S&P500 (i.e. 23 stock returns in total) for the time period 2015-07-01 to 2020-06-28. Which of the following sentences correctly summarizes the resulting network plot? Multiple responses possible.\n",
    "\n",
    "[x] *A: 4 clusters are identified\n",
    "\n",
    "[] All banks are identified to be in the same cluster\n",
    "\n",
    "[x] APPL, GOOG, MSFT, and SP500 are identified to be in the same cluster\n",
    "\n",
    "[x] HSBC and JNJ are not connected directly by an edge\n",
    "1 point"
   ]
  },
  {
   "cell_type": "markdown",
   "metadata": {},
   "source": [
    "Question 16\n",
    "In this notebook, provided that two stocks in the network graph are disconnected (i.e. are not connected directly by an edge), what can we conclude about the relationship between these two stocks?\n",
    " \n",
    "\n",
    "The two stocks are independent of each other\n",
    "\n",
    "[x] The two stocks are independent conditionally on the others\n",
    "\n",
    "The two stocks are in the same cluster\n",
    "\n",
    "The two stocks are from the same sector\n",
    "1 point"
   ]
  },
  {
   "cell_type": "markdown",
   "metadata": {},
   "source": [
    "Question 17\n",
    "Using the notebook, perform graphical analysis without S&P500 (i.e. 22 stock returns in total) for the time period 2015-07-01 to 2020-06-28. Which of the following sentences correctly summarizes the resulting network plot? Multiple responses possible.\n",
    "\n",
    "[x] 4 clusters are identified\n",
    "\n",
    "[] All banks are identified to be in the same cluster\n",
    "\n",
    "[x] APPL, GOOG, MSFT, and BABA are identified to be in the same cluster\n",
    "\n",
    "[x] HSBC and JNJ are not connected directly by an edge\n",
    "1 point\n",
    "1234, 123, 124, 134, 234, 12, 13, 14, 34, 2, 1"
   ]
  },
  {
   "cell_type": "markdown",
   "metadata": {},
   "source": [
    "Question 18\n",
    "Comparing the two network plots for the graphical analysis with and without S&P500 (i.e. 23 and 22 stock returns in total, respectively) for the time period 2015-07-01 to 2020-06-28, which of the following observation is correct? Multiple responses possible.\n",
    "\n",
    "[] Both analyses group the stock returns into 4 clusters \n",
    "\n",
    "[x] BABA is identified to be in a cluster of size one, regardless of whether or not S&P 500 is included\n",
    "\n",
    "[x] The international banks (HSBC, RY) tend to be positioned at the periphery of the bank sector, regardless of whether or not S&P 500 is included\n",
    "\n",
    "[] None of the above\n",
    "1 point"
   ]
  }
 ],
 "metadata": {
  "kernelspec": {
   "display_name": "mforge39",
   "language": "python",
   "name": "python3"
  },
  "language_info": {
   "name": "python",
   "version": "3.9.19"
  }
 },
 "nbformat": 4,
 "nbformat_minor": 2
}
