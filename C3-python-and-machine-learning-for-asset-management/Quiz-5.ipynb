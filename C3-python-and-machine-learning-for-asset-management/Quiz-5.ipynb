{
 "cells": [
  {
   "cell_type": "markdown",
   "metadata": {},
   "source": [
    "# Module 5 Graded Quiz"
   ]
  },
  {
   "cell_type": "markdown",
   "metadata": {},
   "source": [
    "1 What are the primary assumptions when estimating a crash regime? Multiple responses possible (3 correct answers)\n",
    "\n",
    "[x] Availability of adequate historical data on factors and market based asset performance\n",
    "\n",
    "[x] Discovering factors that have legitimate reasons for repeatability\n",
    "\n",
    "[] The underlying causes are the same for each crash\n",
    "\n",
    "[x] Ability to apply a non-parametric method, such as support vector machines \n",
    "1 point"
   ]
  },
  {
   "cell_type": "markdown",
   "metadata": {},
   "source": [
    "Question 2\n",
    "What can be done with better probability projections - Multiple responses possible (3 correct answers)\n",
    "\n",
    "[x] Nothing since most investors are too cautious to take action when warned\n",
    "\n",
    "[x] Provide details to the central bankers (head of Federal Reserve in the U.S.) so that they change policy to avoid the crash\n",
    "\n",
    "[x] Incorporate into the scenario generation of a multi-regime investment model\n",
    "\n",
    "[] Employ within a strategy at the casino for betting on slot machines\n",
    "1 point"
   ]
  },
  {
   "cell_type": "markdown",
   "metadata": {},
   "source": [
    "Question 3\n",
    "What are the primary assumptions of the “wisdom-of-the-crowd” approach?\n",
    "\n",
    "[] The voting process provides a democratic approach to decision making\n",
    "\n",
    "[] The crowd must be experts with doctoral degrees in the target domain\n",
    "\n",
    "[x] Combining weak learns in a aggregation will lead to improved results as compared with a single learner\n",
    "1 point"
   ]
  },
  {
   "cell_type": "markdown",
   "metadata": {},
   "source": [
    "Question 4\n",
    "How can regularized regression LASSO assist with the selection of explanatory variables? Multiple responses possible\n",
    "\n",
    "[x] Adding penalty terms shrinks the beta coefficients and thereby reduces the number of non-zero betas\n",
    "\n",
    "[] The regularization algorithm always selects a single beta factor, the most important feature\n",
    "\n",
    "[x] The out of sample testing, via cross validation improves the robustness of the betas\n",
    "1 point"
   ]
  },
  {
   "cell_type": "markdown",
   "metadata": {},
   "source": [
    "Question 5\n",
    "Many economic time series have relatively high correlations.  How can a forecasting system based on machine learning address this issue?Multiple responses possible\n",
    "\n",
    "[] Highly correlated explanatory variables is not an issue for traditional regression and similar econometric models\n",
    "\n",
    "[x] Regularized regression shrinks the beta coefficients and reduces the number of non-zero factors\n",
    "\n",
    "[x] Ridge regression can improve the condition number for the resulting system of normal equations\n",
    "1 point"
   ]
  },
  {
   "cell_type": "markdown",
   "metadata": {},
   "source": [
    "Question 6\n",
    "What is a reasonable limit on the number of explanatory variables in a feature selection study?\n",
    "\n",
    "[] Ten\n",
    "\n",
    "[] Fifty\n",
    "\n",
    "Five billion  \n",
    "\n",
    "[x] Five hundred to a few thousand\n",
    "1 point"
   ]
  },
  {
   "cell_type": "markdown",
   "metadata": {},
   "source": [
    "Question 7\n",
    "Identifying a crash period requires judgement about the size and extent of the negative performance. Multiple responses possible\n",
    "\n",
    "[] It is relative easy to see a crash on the horizon\n",
    "\n",
    "[x] Crashes are relatively rare events\n",
    "\n",
    "[] Modern machine learning algorithms give us a full proof forecasting system\n",
    "\n",
    "[x] Crash periods entail sharp losses and drawdowns\n",
    "1 point"
   ]
  },
  {
   "cell_type": "markdown",
   "metadata": {},
   "source": [
    "Question 8\n",
    "In this notebook, we are building forecasts for recessions with macroeconomic indicators.\n",
    " What type of problem is this in Machine Learning?\n",
    "\n",
    "[] Unsupervised Learning - Clustering Problem\n",
    "\n",
    "[] Supervised Learning - Regression Problem\n",
    "\n",
    "[x] Supervised Learning-Classification Problem\n",
    "1 point"
   ]
  },
  {
   "cell_type": "markdown",
   "metadata": {},
   "source": [
    "Question 9\n",
    "Is this data balanced or imbalanced?\n",
    "\n",
    "[] balanced \n",
    "\n",
    "[x] imbalanced\n",
    "1 point"
   ]
  },
  {
   "cell_type": "markdown",
   "metadata": {},
   "source": [
    "10 Why a special type of Cross Validation (TimeSeriesSplit) is used in this notebook?\n",
    "\n",
    "[x] Time series structure in the dataset\n",
    "\n",
    "Cross-section data\n",
    "\n",
    "Panel data\n",
    "1 point"
   ]
  },
  {
   "cell_type": "markdown",
   "metadata": {},
   "source": [
    "Question 11\n",
    "ROC metric is used to evaluate performance of the prediction algorithms for our problem.\n",
    " We plot the ROC curve for the best performing ones. What are the axis's of the plot\n",
    " represent?\n",
    "\n",
    "[] True Positivity Rate against False Negativity Rate\n",
    "\n",
    "[x] True Positivity Rate against False Positivity Rate\n",
    "\n",
    "True Negativity Rate against False Negativity Rate\n",
    "\n",
    "True Negativity Rate against False Positivity Rate\n",
    "1 point"
   ]
  },
  {
   "cell_type": "markdown",
   "metadata": {},
   "source": [
    "Question 12\n",
    "Which algorithm performed best in predicting recessions according to results in the note-\n",
    "book?\n",
    "\n",
    "[x] Logistic Regression with penality\n",
    "\n",
    "Decision Trees\n",
    "\n",
    "[] Random Forest\n",
    "\n",
    "[] XGBoosting\n",
    "1 point"
   ]
  }
 ],
 "metadata": {
  "kernelspec": {
   "display_name": "mforge39",
   "language": "python",
   "name": "python3"
  },
  "language_info": {
   "name": "python",
   "version": "3.9.19"
  }
 },
 "nbformat": 4,
 "nbformat_minor": 2
}
