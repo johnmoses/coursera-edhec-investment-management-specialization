{
 "cells": [
  {
   "cell_type": "markdown",
   "metadata": {},
   "source": [
    "# Module 1 Graded Quiz"
   ]
  },
  {
   "cell_type": "markdown",
   "metadata": {},
   "source": [
    "Question 1\n",
    "What are some of the lessons from machine learning that can be applied to investment management? Multiple responses possible (2 correct answers)\n",
    "\n",
    "[x] Wisdom of the crowd allows for a set of weak classifiers to be combined into a strong classifier\n",
    "\n",
    "[x] Reduce overfitting by careful out-of-sample analysis (train and test)\n",
    "\n",
    "[] Machine learning algorithms are able to predict a stock market crash with 100% accuracy\n",
    "\n",
    "[] The selection of the best machine learning algorithm is always easy to determine since these algorithms provide performance guarantees.\n",
    "1 point\n"
   ]
  },
  {
   "cell_type": "markdown",
   "metadata": {},
   "source": [
    "Question 2\n",
    "What areas of FinTech that could be highly disruptive to the large banks and other financial organizations? Multiple responses possible (3 correct answers)\n",
    "\n",
    "[x] Direct online lending customers\n",
    "\n",
    "[x] Online insurance\n",
    "\n",
    "[x] Wealth management via robo-advisors\n",
    "\n",
    "[] Regulators will no longer need to be concerned about the survivability of banks to withstand a market crash. Thus, stress testing can be eliminated \n",
    "\n",
    "[] Insurance companies are able to drop re-insurance contracts since the worst-case risks can be avoided with perfect confidence\n",
    "1 point"
   ]
  },
  {
   "cell_type": "markdown",
   "metadata": {},
   "source": [
    "Question 3\n",
    "How can machine learning algorithms improve investment performance?Multiple responses possible (2 correct answers)\n",
    "\n",
    "[x] Implement automated re-balancing and tax-based strategies\n",
    "\n",
    "[] Predict changes in tax law in the future\n",
    "\n",
    "[] Predict all rare events with perfect accuracy, such as an upcoming pandemic\n",
    "\n",
    "[x] Better estimates of the probability of a crash regime\n",
    "1 point"
   ]
  },
  {
   "cell_type": "markdown",
   "metadata": {},
   "source": [
    "Question 4\n",
    "What are the limitations of machine learning in investment management?\n",
    "\n",
    "[x] Human behavior such as political risk disrupts the ability to predict future performance by machine algorithms\n",
    "\n",
    "[x] Investment performance does not adhere to continuity conditions\n",
    "\n",
    "[] A majority of investors must employ automated investment systems in order to improve the performance\n",
    "1 point"
   ]
  },
  {
   "cell_type": "markdown",
   "metadata": {},
   "source": [
    "Question 5\n",
    "How can you tell if a machine learning method is successful?Multiple responses possible  \n",
    "\n",
    "[] Always select the model with the highest in-sample performance and lowest in-sample errors\n",
    "\n",
    "[x] Evaluate ex post results\n",
    "\n",
    "[] Ask the developers of the machine learning tools\n",
    "1 point"
   ]
  },
  {
   "cell_type": "markdown",
   "metadata": {},
   "source": [
    "Question 6\n",
    "Can machine learning algorithms be applied without human intervention to significant strategic decisions in which there are considerable uncertainties?  True or false?  \n",
    "\n",
    "[] True\n",
    "\n",
    "[x] False\n",
    "1 point"
   ]
  },
  {
   "cell_type": "markdown",
   "metadata": {},
   "source": [
    "Question 7\n",
    "Do classification algorithms always provide probability estimates and false positive and false negative estimates as part of their normal output? True or false?\n",
    "\n",
    "True\n",
    "\n",
    "[x] False\n",
    "1 point"
   ]
  },
  {
   "cell_type": "markdown",
   "metadata": {},
   "source": [
    "8 In the output of a graphical network analysis, what is the implication of two points that are close in terms of distance between them?Multiple responses possible (2 correct answers)\n",
    "\n",
    "[x] Nodes in the middle of the graphical network play an important connecting function in the network\n",
    "\n",
    "[] No relationship via distance between nodes (objects)\n",
    "\n",
    "[x] Nodes that are close to each other have stronger relationship than nodes that have large geographical distance\n",
    "1 point"
   ]
  },
  {
   "cell_type": "markdown",
   "metadata": {},
   "source": [
    "Question 9\n",
    "Reinforcement Learning has had a major area of research over the past few years.   Which of the following applications are not likely to be improved by implementing reinforcement learning algorithms over the next several years? \n",
    "\n",
    "[] Long-term financial planning for individuals\n",
    "\n",
    "[] Identifying the best house to purchase for a middle-class family\n",
    "\n",
    "Optimal betting strategies for online betting on professional athletic events such as the Super Bowl in the US\n",
    "\n",
    "[x] Perfect predictions of the location of earthquakes occurring in cities such as San Francisco\n",
    "1 point"
   ]
  },
  {
   "cell_type": "markdown",
   "metadata": {},
   "source": [
    "Question 10\n",
    "Supervised learning requires labelled data. Thus, for forecasting purposes, there must be enough representative data for training and validation steps\n",
    "\n",
    "[x] True\n",
    "\n",
    "False\n",
    "1 point"
   ]
  },
  {
   "cell_type": "markdown",
   "metadata": {},
   "source": [
    "Question 11\n",
    "There has been a massive increase in micro-level data - at the level of individuals, e.g. purchases of products and services. This data can be coupled with macro-economic data, e.g., GDP and inflation, and with market data, e.g. stock performance to improve investment performance\n",
    "\n",
    "[x] True\n",
    "\n",
    "False\n",
    "1 point"
   ]
  }
 ],
 "metadata": {
  "kernelspec": {
   "display_name": "mforge39",
   "language": "python",
   "name": "python3"
  },
  "language_info": {
   "name": "python",
   "version": "3.9.19"
  }
 },
 "nbformat": 4,
 "nbformat_minor": 2
}
